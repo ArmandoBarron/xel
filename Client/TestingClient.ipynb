{
 "cells": [
  {
   "cell_type": "code",
   "execution_count": 1,
   "metadata": {},
   "outputs": [
    {
     "name": "stdout",
     "output_type": "stream",
     "text": [
      "lib loaded\n"
     ]
    }
   ],
   "source": [
    "#%pip install requests\n",
    "\n",
    "from Client import CltFunxion,DAG,Service\n",
    "print(\"lib loaded\")"
   ]
  },
  {
   "cell_type": "code",
   "execution_count": 2,
   "metadata": {},
   "outputs": [
    {
     "name": "stderr",
     "output_type": "stream",
     "text": [
      "[2024-04-04 11:15:39,694] [INFO] [Client]: context loaded\n"
     ]
    }
   ],
   "source": [
    "Client = CltFunxion()\n",
    "#Client.FlushTokenSolution()"
   ]
  },
  {
   "cell_type": "code",
   "execution_count": 3,
   "metadata": {},
   "outputs": [
    {
     "name": "stderr",
     "output_type": "stream",
     "text": [
      "[2024-04-03 14:26:56,723] [INFO] [Client]: context loaded\n",
      "[2024-04-03 14:26:57,104] [INFO] [Client]: Login Success!\n"
     ]
    }
   ],
   "source": [
    "#Client.FlushTokenSolution()\n",
    "datos_acceso = Client.login()"
   ]
  },
  {
   "cell_type": "code",
   "execution_count": 4,
   "metadata": {},
   "outputs": [],
   "source": [
    "#crear servicio\n",
    "serv1 = Service(\"query\",\"transform_ds\",{\"query_flt\":\"CAUSA_DEF=='C50'\",\n",
    "                                        \"exec_code\":\"\",\n",
    "                                        \"query_list\":\"\",\n",
    "                                        },\"Query a C50\",actions=\"EVAL\")\n",
    "#serv2 = Service(\"query sexo\",\"transform_ds\",{\"query_flt\":\"SEXO='Total'\"},\"Query a todos los sexos\",actions=\"EVAL\")\n",
    "\n",
    "Client.dag.add_service(serv1)\n",
    "#   Client.dag.add_service(serv2,\"query\")"
   ]
  },
  {
   "cell_type": "code",
   "execution_count": 6,
   "metadata": {},
   "outputs": [
    {
     "name": "stderr",
     "output_type": "stream",
     "text": [
      "[2024-04-03 14:27:34,721] [INFO] [Client]: Container's Stack created!: b2baaea00ba8140fd1380f3f444af5e4825b54de7b0d014570ff2388067ee3aa\n"
     ]
    }
   ],
   "source": [
    "\n",
    "#Client.ForceExec()\n",
    "deploy_info = Client.deploy()\n",
    "\n"
   ]
  },
  {
   "cell_type": "code",
   "execution_count": null,
   "metadata": {},
   "outputs": [],
   "source": [
    "datamap = Client.create_datamap(\"Chiapas_cancer.csv\")\n",
    "\n",
    "Client.run(datamap)\n",
    "#Cliente.monitoring(clean_after_complete=True)\n",
    "Client.monitoring(clean_after_complete=False)\n",
    "\n",
    "Client.save_context()"
   ]
  }
 ],
 "metadata": {
  "kernelspec": {
   "display_name": "Python 3",
   "language": "python",
   "name": "python3"
  },
  "language_info": {
   "codemirror_mode": {
    "name": "ipython",
    "version": 3
   },
   "file_extension": ".py",
   "mimetype": "text/x-python",
   "name": "python",
   "nbconvert_exporter": "python",
   "pygments_lexer": "ipython3",
   "version": "3.11.9"
  }
 },
 "nbformat": 4,
 "nbformat_minor": 2
}
